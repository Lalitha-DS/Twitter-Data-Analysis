{
 "cells": [
  {
   "cell_type": "code",
   "execution_count": null,
   "metadata": {},
   "outputs": [],
   "source": [
    "import pandas as pd\n",
    "from ntscraper import nitter\n",
    "\n",
    "scraper = nitter.Nitter()\n",
    "\n",
    "# Function to get user engagement metrics for a given user\n",
    "def get_user_engagement(username, num_tweets):\n",
    "    tweets = scraper.get_tweets(username, 'user', num_tweets)\n",
    "    final_tweets = []\n",
    "    for tweet in tweets['tweets']:\n",
    "        link = tweet['link']\n",
    "        text = tweet['text']\n",
    "        date = tweet['date']\n",
    "        likes = tweet['stats']['likes']\n",
    "        comments = tweet['stats']['comments']\n",
    "        final_tweets.append([link, text, date, likes, comments])\n",
    "    return final_tweets\n",
    "\n",
    "# Specify the username and number of tweets to retrieve\n",
    "username = 'imVkohli'\n",
    "num_tweets = 5\n",
    "\n",
    "# Get user engagement metrics\n",
    "tweets_data = get_user_engagement(username, num_tweets)\n",
    "\n",
    "# Create a DataFrame from the extracted data\n",
    "data = pd.DataFrame(tweets_data, columns=['link', 'text', 'date', 'No_of_Likes', 'No_of_Comments'])\n"
   ]
  }
 ],
 "metadata": {
  "language_info": {
   "name": "python"
  }
 },
 "nbformat": 4,
 "nbformat_minor": 2
}
